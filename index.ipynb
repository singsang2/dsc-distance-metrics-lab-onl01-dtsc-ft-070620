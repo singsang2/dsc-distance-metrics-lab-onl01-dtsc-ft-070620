{
 "cells": [
  {
   "cell_type": "markdown",
   "metadata": {},
   "source": [
    "# Distance Metrics - Lab\n",
    "\n",
    "## Introduction\n",
    "\n",
    "In this lab, you'll calculate various distances between multiple points using the distance metrics you learned about!\n",
    "\n",
    "## Objectives\n",
    "\n",
    "In this lab you will:\n",
    "\n",
    "- Calculate Manhattan distance between two points \n",
    "- Calculate Euclidean distance between two points\n",
    "- Calculate Minkowski distance between two points\n",
    "\n",
    "## Getting Started\n",
    "\n",
    "You'll start by writing a generalized function to calculate any of the three distance metrics you've learned about. Let's review what you know so far:\n",
    "\n",
    "> The **_Manhattan distance_** and **_Euclidean distance_** are both special cases of **_Minkowski distance_**. \n",
    "\n",
    "\n",
    "Take a look at the formula for Minkowski distance below:\n",
    "\n",
    "$$\\large d(x,y) = \\left(\\sum_{i=1}^{n}|x_i - y_i|^c\\right)^\\frac{1}{c}$$  \n",
    "\n",
    "**_Manhattan distance_** is a special case where $c=1$ in the equation above (which means that you can remove the root operation and just keep the summation).  \n",
    "\n",
    "**_Euclidean distance_** is a special case where $c=2$ in the equation above.\n",
    "\n",
    "Knowing this, you can create a generalized `distance()` function that calculates Minkowski distance, and takes in `c` as a parameter. That way, you can use the same function for every problem, and still calculate Manhattan and Euclidean distance metrics by just passing in the appropriate values for the `c` parameter!\n",
    "\n",
    "In the cell below:\n",
    "\n",
    "* Complete the `distance()` function which should implement the Minkowski distance equation above to return the distance, a single number  \n",
    "* This function should take in 4 arguments:\n",
    "    * `a`: a tuple or array that describes a vector in n-dimensional space  \n",
    "    * `b`: a tuple or array that describes a vector in n-dimensional space (this must be the same length as `a`!)\n",
    "    * `c`: which tells us the norm to calculate the vector space (if set to `1`, the result will be Manhattan, while `2` will calculate Euclidean distance) \n",
    "    * `verbose`: set to `True` by default. If true, the function should print out if the distance metric returned is a measurement of Manhattan, Euclidean, or Minkowski distance \n",
    "    \n",
    "* Since euclidean distance is the most common distance metric used, this function should default to using `c=2` if no value is set for `c` \n",
    "\n",
    "\n",
    "**_HINT:_** \n",
    "\n",
    "1. You can avoid using a `for` loop like we did in the previous lesson by simply converting the tuples to NumPy arrays \n",
    "\n",
    "2. Use `np.power()` as an easy way to implement both squares and square roots. `np.power(a, 3)` will return the cube of `a`, while `np.power(a, 1/3)` will return the cube root of 3. For more information on this function, refer the [NumPy documentation](https://docs.scipy.org/doc/numpy-1.15.1/reference/generated/numpy.power.html)!"
   ]
  },
  {
   "cell_type": "code",
   "execution_count": 12,
   "metadata": {
    "ExecuteTime": {
     "end_time": "2020-09-23T15:35:52.301104Z",
     "start_time": "2020-09-23T15:35:52.296245Z"
    }
   },
   "outputs": [
    {
     "data": {
      "text/plain": [
       "6.4031242374328485"
      ]
     },
     "execution_count": 12,
     "metadata": {},
     "output_type": "execute_result"
    }
   ],
   "source": [
    "a = np.array([1, 2, 4])\n",
    "b = np.array([3, 1, -2])\n",
    "np.sum((a-b)**2)**(1/2)"
   ]
  },
  {
   "cell_type": "code",
   "execution_count": 18,
   "metadata": {
    "ExecuteTime": {
     "end_time": "2020-09-23T15:37:00.964535Z",
     "start_time": "2020-09-23T15:37:00.957612Z"
    }
   },
   "outputs": [
    {
     "name": "stdout",
     "output_type": "stream",
     "text": [
      "5.0\n",
      "7.0\n",
      "4.497941445275415\n"
     ]
    }
   ],
   "source": [
    "import numpy as np\n",
    "\n",
    "# Complete this function! \n",
    "def distance(x, y, c=2):\n",
    "    return np.sum(np.abs(np.array(x)-np.array(y))**c)**(1/c)\n",
    "\n",
    "\n",
    "\n",
    "test_point_1 = (1, 2)\n",
    "test_point_2 = (4, 6)\n",
    "print(distance(test_point_1, test_point_2)) # Expected Output: 5.0\n",
    "print(distance(test_point_1, test_point_2, c=1)) # Expected Output: 7.0\n",
    "print(distance(test_point_1, test_point_2, c=3)) # Expected Output: 4.497941445275415"
   ]
  },
  {
   "cell_type": "markdown",
   "metadata": {},
   "source": [
    "Great job! \n",
    "\n",
    "Now, use your function to calculate distances between points: \n",
    "\n",
    "## Problem 1\n",
    "\n",
    "Calculate the **_Euclidean distance_** between the following points in 5-dimensional space:\n",
    "\n",
    "Point 1: (-2, -3.4, 4, 15, 7)\n",
    "\n",
    "Point 2: (3, -1.2, -2, -1, 7)"
   ]
  },
  {
   "cell_type": "code",
   "execution_count": 19,
   "metadata": {
    "ExecuteTime": {
     "end_time": "2020-09-23T15:38:07.510783Z",
     "start_time": "2020-09-23T15:38:07.506146Z"
    }
   },
   "outputs": [
    {
     "data": {
      "text/plain": [
       "17.939899665271266"
      ]
     },
     "execution_count": 19,
     "metadata": {},
     "output_type": "execute_result"
    }
   ],
   "source": [
    "point_1 = (-2, -3.4, 4, 15, 7)\n",
    "point_2 = (3, -1.2, -2, -1, 7)\n",
    "\n",
    "distance(point_1, point_2, c=2)\n",
    "# Expected Output: 17.939899665271266"
   ]
  },
  {
   "cell_type": "markdown",
   "metadata": {},
   "source": [
    "## Problem 2\n",
    "\n",
    "Calculate the **_Manhattan distance_** between the following points in 10-dimensional space:\n",
    "\n",
    "Point 1: \\[0, 0, 0, 7, 16, 2, 0, 1, 2, 1\\]  \n",
    "Point 2: \\[1, -1, 5, 7, 14, 3, -2, 3, 3, 6\\]"
   ]
  },
  {
   "cell_type": "code",
   "execution_count": 20,
   "metadata": {
    "ExecuteTime": {
     "end_time": "2020-09-23T15:38:36.267410Z",
     "start_time": "2020-09-23T15:38:36.262211Z"
    }
   },
   "outputs": [
    {
     "data": {
      "text/plain": [
       "20.0"
      ]
     },
     "execution_count": 20,
     "metadata": {},
     "output_type": "execute_result"
    }
   ],
   "source": [
    "# Expected Output: 20.0\n",
    "point_1 = [0, 0, 0, 7, 16, 2, 0, 1, 2, 1]\n",
    "point_2 = [1, -1, 5, 7, 14, 3, -2, 3, 3, 6]\n",
    "\n",
    "distance(point_1, point_2, c=1)"
   ]
  },
  {
   "cell_type": "markdown",
   "metadata": {},
   "source": [
    "## Problem 3\n",
    "\n",
    "Calculate the **_Minkowski distance_** with a norm of 3.5 between the following points:\n",
    "\n",
    "Point 1: (-2, 7, 3.4)  \n",
    "Point 2: (3, 4, 1.5)"
   ]
  },
  {
   "cell_type": "code",
   "execution_count": 21,
   "metadata": {
    "ExecuteTime": {
     "end_time": "2020-09-23T15:39:10.192041Z",
     "start_time": "2020-09-23T15:39:10.187620Z"
    }
   },
   "outputs": [
    {
     "data": {
      "text/plain": [
       "5.268789659188307"
      ]
     },
     "execution_count": 21,
     "metadata": {},
     "output_type": "execute_result"
    }
   ],
   "source": [
    "# Expected Output: 5.268789659188307\n",
    "point_1 = (-2, 7, 3.4)\n",
    "point_2 = (3, 4, 1.5)\n",
    "distance(point_1, point_2, c=3.5)"
   ]
  },
  {
   "cell_type": "markdown",
   "metadata": {},
   "source": [
    "## Summary\n",
    "\n",
    "Great job! Now that you know about the various distance metrics, you can use them to writing a K-Nearest Neighbors classifier from scratch!"
   ]
  }
 ],
 "metadata": {
  "kernelspec": {
   "display_name": "Python 3",
   "language": "python",
   "name": "python3"
  },
  "language_info": {
   "codemirror_mode": {
    "name": "ipython",
    "version": 3
   },
   "file_extension": ".py",
   "mimetype": "text/x-python",
   "name": "python",
   "nbconvert_exporter": "python",
   "pygments_lexer": "ipython3",
   "version": "3.6.9"
  },
  "toc": {
   "base_numbering": 1,
   "nav_menu": {},
   "number_sections": true,
   "sideBar": true,
   "skip_h1_title": false,
   "title_cell": "Table of Contents",
   "title_sidebar": "Contents",
   "toc_cell": false,
   "toc_position": {},
   "toc_section_display": true,
   "toc_window_display": false
  }
 },
 "nbformat": 4,
 "nbformat_minor": 2
}
